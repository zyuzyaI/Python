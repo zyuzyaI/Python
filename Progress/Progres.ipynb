{
  "nbformat": 4,
  "nbformat_minor": 0,
  "metadata": {
    "colab": {
      "name": "Progres.ipynb",
      "provenance": [],
      "collapsed_sections": []
    },
    "kernelspec": {
      "name": "python3",
      "display_name": "Python 3"
    }
  },
  "cells": [
    {
      "cell_type": "markdown",
      "metadata": {
        "id": "uCExBQH8AsLw",
        "colab_type": "text"
      },
      "source": [
        "# Libraries:\n",
        "- [progress](https://github.com/verigak/progress/);\n",
        "- [tqdm](https://github.com/tqdm/tqdm)\n",
        "- [alive-progress](https://github.com/rsalmei/alive-progress)\n",
        "- [sys](https://stackoverflow.com/questions/3160699/python-progress-bar)\n",
        "- [clint](https://github.com/kennethreitz-archive/clint)"
      ]
    },
    {
      "cell_type": "markdown",
      "metadata": {
        "id": "FraWc8y-BFn0",
        "colab_type": "text"
      },
      "source": [
        "# [progress](https://github.com/verigak/progress/)"
      ]
    },
    {
      "cell_type": "code",
      "metadata": {
        "id": "xaqDjB78BKwR",
        "colab_type": "code",
        "colab": {}
      },
      "source": [
        "!pip install progress"
      ],
      "execution_count": 0,
      "outputs": []
    },
    {
      "cell_type": "code",
      "metadata": {
        "id": "QiBRdRqMAYfH",
        "colab_type": "code",
        "colab": {}
      },
      "source": [
        "import time \n",
        "from progress.bar import IncrementalBar"
      ],
      "execution_count": 0,
      "outputs": []
    },
    {
      "cell_type": "code",
      "metadata": {
        "id": "wm1VFOtbBDIH",
        "colab_type": "code",
        "colab": {
          "base_uri": "https://localhost:8080/",
          "height": 35
        },
        "outputId": "f0b19079-70c2-4604-9563-46c16c161642"
      },
      "source": [
        "mylist = [1,2,3,4,5,6,7,8]\n",
        "\n",
        "bar = IncrementalBar('Countdown', max = len(mylist))\n",
        "\n",
        "for item in mylist:\n",
        "    bar.next()\n",
        "    time.sleep(1)\n",
        "\n",
        "bar.finish()\n",
        "print(\"Done!\")"
      ],
      "execution_count": 8,
      "outputs": [
        {
          "output_type": "stream",
          "text": [
            "Done!\n"
          ],
          "name": "stdout"
        }
      ]
    },
    {
      "cell_type": "markdown",
      "metadata": {
        "id": "EraK-4PHDTA7",
        "colab_type": "text"
      },
      "source": [
        "## Bars\n",
        "There are 7 progress bars to choose from:\n",
        "\n",
        "- Bar\n",
        "- ChargingBar\n",
        "- FillingSquaresBar\n",
        "- FillingCirclesBar\n",
        "- IncrementalBar\n",
        "- PixelBar\n",
        "- ShadyBar\n",
        "\n",
        "![](https://camo.githubusercontent.com/2eac4822edcfe3353ad2e4b56c33b6e4b4f8955f/68747470733a2f2f7261772e6769746875622e636f6d2f7665726967616b2f70726f67726573732f6d61737465722f64656d6f2e676966)"
      ]
    },
    {
      "cell_type": "markdown",
      "metadata": {
        "id": "BwhSh7IQD6qa",
        "colab_type": "text"
      },
      "source": [
        "# [tqdm](https://github.com/tqdm/tqdm)"
      ]
    },
    {
      "cell_type": "code",
      "metadata": {
        "id": "8OpEzoraBwhG",
        "colab_type": "code",
        "colab": {}
      },
      "source": [
        "import time\n",
        "from tqdm import tqdm"
      ],
      "execution_count": 0,
      "outputs": []
    },
    {
      "cell_type": "code",
      "metadata": {
        "id": "3sCB6H3WEMq4",
        "colab_type": "code",
        "colab": {
          "base_uri": "https://localhost:8080/",
          "height": 52
        },
        "outputId": "34d0ed4d-2207-48e0-fb49-1d849bc9a410"
      },
      "source": [
        "mylist = [1,2,3,4,5,6]\n",
        "\n",
        "for i in tqdm(mylist):\n",
        "    time.sleep(1)\n",
        "\n",
        "print(\"Done!\")"
      ],
      "execution_count": 10,
      "outputs": [
        {
          "output_type": "stream",
          "text": [
            "100%|██████████| 6/6 [00:06<00:00,  1.00s/it]"
          ],
          "name": "stderr"
        },
        {
          "output_type": "stream",
          "text": [
            "Done!\n"
          ],
          "name": "stdout"
        },
        {
          "output_type": "stream",
          "text": [
            "\n"
          ],
          "name": "stderr"
        }
      ]
    },
    {
      "cell_type": "markdown",
      "metadata": {
        "id": "ocZGOvkJFERp",
        "colab_type": "text"
      },
      "source": [
        "![](https://raw.githubusercontent.com/tqdm/tqdm/master/images/tqdm.gif)"
      ]
    },
    {
      "cell_type": "markdown",
      "metadata": {
        "id": "s5mWecZFFhPh",
        "colab_type": "text"
      },
      "source": [
        "# [alive-progress](https://github.com/rsalmei/alive-progress)"
      ]
    },
    {
      "cell_type": "code",
      "metadata": {
        "id": "5aGDmPjCFtnp",
        "colab_type": "code",
        "colab": {}
      },
      "source": [
        "!pip install alive_progress"
      ],
      "execution_count": 0,
      "outputs": []
    },
    {
      "cell_type": "code",
      "metadata": {
        "id": "BOO-93-eEXNs",
        "colab_type": "code",
        "colab": {}
      },
      "source": [
        "import time\n",
        "from alive_progress import alive_bar"
      ],
      "execution_count": 0,
      "outputs": []
    },
    {
      "cell_type": "code",
      "metadata": {
        "id": "5QtUKMSJFsSy",
        "colab_type": "code",
        "colab": {}
      },
      "source": [
        "mylist = [1,2,3,4,5]\n",
        "\n",
        "with alive_bar(len(mylist)) as bar:\n",
        "  for i in mylist:\n",
        "    bar()\n",
        "    time.sleep(0.5)\n",
        "\n",
        "print(\"Done!\")"
      ],
      "execution_count": 0,
      "outputs": []
    },
    {
      "cell_type": "markdown",
      "metadata": {
        "id": "AhaSKVnSGmFS",
        "colab_type": "text"
      },
      "source": [
        "![](https://raw.githubusercontent.com/rsalmei/alive-progress/master/img/alive-demo.gif)"
      ]
    },
    {
      "cell_type": "markdown",
      "metadata": {
        "id": "0qYli4CPIeLi",
        "colab_type": "text"
      },
      "source": [
        "# [sys](https://stackoverflow.com/questions/3160699/python-progress-bar)"
      ]
    },
    {
      "cell_type": "code",
      "metadata": {
        "id": "Ho7_0OLwG_hd",
        "colab_type": "code",
        "colab": {}
      },
      "source": [
        "import time\n",
        "import sys\n",
        "\n",
        "toolbar_width = 40\n",
        "\n",
        "# setup toolbar\n",
        "sys.stdout.write(\"[%s]\" % (\" \" * toolbar_width))\n",
        "sys.stdout.flush()\n",
        "sys.stdout.write(\"\\b\" * (toolbar_width+1)) # return to start of line, after '['\n",
        "\n",
        "for i in range(toolbar_width):\n",
        "    time.sleep(0.1) # do real work here\n",
        "    # update the bar\n",
        "    sys.stdout.write(\"-\")\n",
        "    sys.stdout.flush()\n",
        "\n",
        "\n",
        "sys.stdout.write(\"]\\n\") # this ends the progress bar\n",
        "print(\"Done!\")"
      ],
      "execution_count": 0,
      "outputs": []
    },
    {
      "cell_type": "markdown",
      "metadata": {
        "id": "3GYVX1fDKdmM",
        "colab_type": "text"
      },
      "source": [
        "# [clint](https://github.com/kennethreitz-archive/clint)"
      ]
    },
    {
      "cell_type": "code",
      "metadata": {
        "id": "OeYsy4rZKrl9",
        "colab_type": "code",
        "colab": {}
      },
      "source": [
        "!pip install clint"
      ],
      "execution_count": 0,
      "outputs": []
    },
    {
      "cell_type": "code",
      "metadata": {
        "id": "9CKQtz08HuKM",
        "colab_type": "code",
        "colab": {}
      },
      "source": [
        "from clint.textui import progress\n",
        "import time "
      ],
      "execution_count": 0,
      "outputs": []
    },
    {
      "cell_type": "code",
      "metadata": {
        "id": "2CLaSGlcKqcK",
        "colab_type": "code",
        "colab": {
          "base_uri": "https://localhost:8080/",
          "height": 52
        },
        "outputId": "2483a980-f8c1-4606-a700-8d626676d572"
      },
      "source": [
        "for i in progress.bar(range(10)):\n",
        "    print(\"Bar\")\n",
        "    time.sleep(.1)\n",
        "\n",
        "print(\"-----------------------------------------\")\n",
        "for i in progress.dots(range(10)):\n",
        "    print(\"Dots\")\n",
        "    time.sleep(.1)\n",
        "\n",
        "print(\"-----------------------------------------\")\n",
        "for i in progress.mill(range(10)):\n",
        "    print(\"Mill\")\n",
        "    time.sleep(.1)\n",
        "print(\"-----------------------------------------\")\n",
        "print(\"Done!\")"
      ],
      "execution_count": 46,
      "outputs": [
        {
          "output_type": "stream",
          "text": [
            "..........\n",
            "\n"
          ],
          "name": "stderr"
        }
      ]
    },
    {
      "cell_type": "markdown",
      "metadata": {
        "id": "_0Lw8mO-PRrn",
        "colab_type": "text"
      },
      "source": [
        "### In this I dont tell about GUI progress bar. And many others...\n",
        "As for me the best choice is tqdm. It is easy and practical."
      ]
    },
    {
      "cell_type": "markdown",
      "metadata": {
        "id": "OTBeYHaDAgB7",
        "colab_type": "text"
      },
      "source": [
        "# Sources\n",
        "\n",
        "[habr](https://habr.com/ru/post/483400/)\n",
        "\n",
        "[stackoverflow](https://stackoverflow.com/questions/3160699/python-progress-bar)\n",
        "\n",
        "http://zetblog.ru/python-kak-sdelat-progress-bar-v-konsole.html"
      ]
    },
    {
      "cell_type": "code",
      "metadata": {
        "id": "mwk4XrwfPAVB",
        "colab_type": "code",
        "colab": {}
      },
      "source": [
        ""
      ],
      "execution_count": 0,
      "outputs": []
    }
  ]
}